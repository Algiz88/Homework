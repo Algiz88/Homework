{
 "cells": [
  {
   "cell_type": "code",
   "execution_count": 48,
   "id": "ca7225d9",
   "metadata": {},
   "outputs": [],
   "source": [
    "#В этом задании вам необходимо использовать набор данных iris.\n",
    "#1)Загрузите датасет с помощью функции np.genfromtxt()\n",
    "#2)Вычислите простейшие статистики: min, max, median, mean, 0.25-percentile,0.75-percentile для каждого из числовых атрибутов в датасете\n",
    "#3)Постройте гистограмму для каждого из числовых атрибутов в датасете\n",
    "#4)Сгруппируйте датасет по категории (последний столбец датасета) и повторитешаги 2 и 3 для групп.\n",
    "\n",
    "import pandas as pd"
   ]
  },
  {
   "cell_type": "code",
   "execution_count": 49,
   "id": "08d79af2",
   "metadata": {},
   "outputs": [],
   "source": [
    "import numpy as np"
   ]
  },
  {
   "cell_type": "code",
   "execution_count": 50,
   "id": "d9840674",
   "metadata": {},
   "outputs": [],
   "source": [
    "import matplotlib.pyplot as plt"
   ]
  },
  {
   "cell_type": "code",
   "execution_count": 58,
   "id": "4d001d4b",
   "metadata": {},
   "outputs": [],
   "source": [
    "F = np.dtype([('A', 'f4'), ('B', 'f4'), ('C', 'f4'), ('D', 'f4'), ('E', 'U14')])"
   ]
  },
  {
   "cell_type": "code",
   "execution_count": 59,
   "id": "5a45aee4",
   "metadata": {},
   "outputs": [],
   "source": [
    "MySet = np.genfromtxt('./iris.data', dtype=F, delimiter=',')"
   ]
  },
  {
   "cell_type": "code",
   "execution_count": 98,
   "id": "672ed76b",
   "metadata": {},
   "outputs": [
    {
     "ename": "NameError",
     "evalue": "name 'df3' is not defined",
     "output_type": "error",
     "traceback": [
      "\u001b[1;31m---------------------------------------------------------------------------\u001b[0m",
      "\u001b[1;31mNameError\u001b[0m                                 Traceback (most recent call last)",
      "\u001b[1;32m~\\AppData\\Local\\Temp/ipykernel_20676/1548101511.py\u001b[0m in \u001b[0;36m<module>\u001b[1;34m\u001b[0m\n\u001b[0;32m      1\u001b[0m \u001b[0mdf\u001b[0m \u001b[1;33m=\u001b[0m \u001b[0mpd\u001b[0m\u001b[1;33m.\u001b[0m\u001b[0mDataFrame\u001b[0m\u001b[1;33m(\u001b[0m\u001b[0mMySet\u001b[0m\u001b[1;33m)\u001b[0m\u001b[1;33m\u001b[0m\u001b[1;33m\u001b[0m\u001b[0m\n\u001b[1;32m----> 2\u001b[1;33m \u001b[0mprint\u001b[0m\u001b[1;33m(\u001b[0m\u001b[0mlen\u001b[0m\u001b[1;33m(\u001b[0m\u001b[0mdf3\u001b[0m\u001b[1;33m)\u001b[0m\u001b[1;33m)\u001b[0m\u001b[1;33m\u001b[0m\u001b[1;33m\u001b[0m\u001b[0m\n\u001b[0m\u001b[0;32m      3\u001b[0m \u001b[0mprint\u001b[0m\u001b[1;33m(\u001b[0m\u001b[0mdf3\u001b[0m\u001b[1;33m.\u001b[0m\u001b[0mhead\u001b[0m\u001b[1;33m(\u001b[0m\u001b[1;33m)\u001b[0m\u001b[1;33m)\u001b[0m\u001b[1;33m\u001b[0m\u001b[1;33m\u001b[0m\u001b[0m\n",
      "\u001b[1;31mNameError\u001b[0m: name 'df3' is not defined"
     ]
    }
   ],
   "source": [
    "df = pd.DataFrame(MySet)\n",
    "print(len(df3))\n",
    "print(df3.head())"
   ]
  },
  {
   "cell_type": "code",
   "execution_count": 61,
   "id": "b8e5a123",
   "metadata": {},
   "outputs": [
    {
     "data": {
      "text/plain": [
       "A    5.843335\n",
       "B    3.054000\n",
       "C    3.758667\n",
       "D    1.198667\n",
       "dtype: float32"
      ]
     },
     "execution_count": 61,
     "metadata": {},
     "output_type": "execute_result"
    }
   ],
   "source": [
    "#cреднее\n",
    "df[['A', 'B', 'C', 'D']].mean()"
   ]
  },
  {
   "cell_type": "code",
   "execution_count": 62,
   "id": "c02799ce",
   "metadata": {},
   "outputs": [
    {
     "data": {
      "text/plain": [
       "A    4.3\n",
       "B    2.0\n",
       "C    1.0\n",
       "D    0.1\n",
       "dtype: float32"
      ]
     },
     "execution_count": 62,
     "metadata": {},
     "output_type": "execute_result"
    }
   ],
   "source": [
    "#min\n",
    "df[['A', 'B', 'C', 'D']].min()"
   ]
  },
  {
   "cell_type": "code",
   "execution_count": 65,
   "id": "3a8a0a46",
   "metadata": {},
   "outputs": [
    {
     "data": {
      "text/plain": [
       "A    7.9\n",
       "B    4.4\n",
       "C    6.9\n",
       "D    2.5\n",
       "dtype: float32"
      ]
     },
     "execution_count": 65,
     "metadata": {},
     "output_type": "execute_result"
    }
   ],
   "source": [
    "#max\n",
    "df[['A', 'B', 'C', 'D']].max()"
   ]
  },
  {
   "cell_type": "code",
   "execution_count": 67,
   "id": "c1ad3eea",
   "metadata": {},
   "outputs": [
    {
     "data": {
      "text/plain": [
       "A    5.80\n",
       "B    3.00\n",
       "C    4.35\n",
       "D    1.30\n",
       "dtype: float32"
      ]
     },
     "execution_count": 67,
     "metadata": {},
     "output_type": "execute_result"
    }
   ],
   "source": [
    "#median\n",
    "df[['A', 'B', 'C', 'D']].median()"
   ]
  },
  {
   "cell_type": "code",
   "execution_count": 68,
   "id": "78f78a6a",
   "metadata": {},
   "outputs": [
    {
     "data": {
      "text/plain": [
       "5.099999904632568"
      ]
     },
     "execution_count": 68,
     "metadata": {},
     "output_type": "execute_result"
    }
   ],
   "source": [
    "np.percentile(df[['A']], 25)"
   ]
  },
  {
   "cell_type": "code",
   "execution_count": 69,
   "id": "b0db17cd",
   "metadata": {},
   "outputs": [
    {
     "data": {
      "text/plain": [
       "2.799999952316284"
      ]
     },
     "execution_count": 69,
     "metadata": {},
     "output_type": "execute_result"
    }
   ],
   "source": [
    "np.percentile(df[['B']], 25)"
   ]
  },
  {
   "cell_type": "code",
   "execution_count": 70,
   "id": "13f89f05",
   "metadata": {},
   "outputs": [
    {
     "data": {
      "text/plain": [
       "1.600000023841858"
      ]
     },
     "execution_count": 70,
     "metadata": {},
     "output_type": "execute_result"
    }
   ],
   "source": [
    "np.percentile(df[['C']], 25)"
   ]
  },
  {
   "cell_type": "code",
   "execution_count": 71,
   "id": "0bda8475",
   "metadata": {},
   "outputs": [
    {
     "data": {
      "text/plain": [
       "0.30000001192092896"
      ]
     },
     "execution_count": 71,
     "metadata": {},
     "output_type": "execute_result"
    }
   ],
   "source": [
    "np.percentile(df[['D']], 25)"
   ]
  },
  {
   "cell_type": "code",
   "execution_count": 72,
   "id": "3949279e",
   "metadata": {},
   "outputs": [
    {
     "data": {
      "text/plain": [
       "6.400000095367432"
      ]
     },
     "execution_count": 72,
     "metadata": {},
     "output_type": "execute_result"
    }
   ],
   "source": [
    "np.percentile(df[['A']], 75)"
   ]
  },
  {
   "cell_type": "code",
   "execution_count": 73,
   "id": "a5d2effb",
   "metadata": {},
   "outputs": [
    {
     "data": {
      "text/plain": [
       "3.299999952316284"
      ]
     },
     "execution_count": 73,
     "metadata": {},
     "output_type": "execute_result"
    }
   ],
   "source": [
    "np.percentile(df[['B']], 75)"
   ]
  },
  {
   "cell_type": "code",
   "execution_count": 74,
   "id": "55960ff2",
   "metadata": {},
   "outputs": [
    {
     "data": {
      "text/plain": [
       "5.099999904632568"
      ]
     },
     "execution_count": 74,
     "metadata": {},
     "output_type": "execute_result"
    }
   ],
   "source": [
    "np.percentile(df[['C']], 75)"
   ]
  },
  {
   "cell_type": "code",
   "execution_count": 75,
   "id": "e6e3504a",
   "metadata": {},
   "outputs": [
    {
     "data": {
      "text/plain": [
       "1.7999999523162842"
      ]
     },
     "execution_count": 75,
     "metadata": {},
     "output_type": "execute_result"
    }
   ],
   "source": [
    "np.percentile(df[['D']], 75)"
   ]
  },
  {
   "cell_type": "code",
   "execution_count": 76,
   "id": "e6c152a7",
   "metadata": {},
   "outputs": [
    {
     "data": {
      "text/plain": [
       "<function matplotlib.pyplot.show(close=None, block=None)>"
      ]
     },
     "execution_count": 76,
     "metadata": {},
     "output_type": "execute_result"
    },
    {
     "data": {
      "image/png": "[encoded data removed]",
      "text/plain": [
       "<Figure size 432x288 with 1 Axes>"
      ]
     },
     "metadata": {
      "needs_background": "light"
     },
     "output_type": "display_data"
    }
   ],
   "source": [
    "plt.hist(df.A, bins = 30, density=1)\n",
    "plt.grid(True)\n",
    "plt.show"
   ]
  },
  {
   "cell_type": "code",
   "execution_count": 77,
   "id": "e071bac0",
   "metadata": {},
   "outputs": [
    {
     "data": {
      "text/plain": [
       "<function matplotlib.pyplot.show(close=None, block=None)>"
      ]
     },
     "execution_count": 77,
     "metadata": {},
     "output_type": "execute_result"
    },
    {
     "data": {
      "image/png": "[encoded data removed]",
      "text/plain": [
       "<Figure size 432x288 with 1 Axes>"
      ]
     },
     "metadata": {
      "needs_background": "light"
     },
     "output_type": "display_data"
    }
   ],
   "source": [
    "plt.hist(df.B, bins = 30)\n",
    "plt.grid(True)\n",
    "plt.show"
   ]
  },
  {
   "cell_type": "code",
   "execution_count": 78,
   "id": "2e5367df",
   "metadata": {},
   "outputs": [
    {
     "data": {
      "text/plain": [
       "<function matplotlib.pyplot.show(close=None, block=None)>"
      ]
     },
     "execution_count": 78,
     "metadata": {},
     "output_type": "execute_result"
    },
    {
     "data": {
      "image/png": "[encoded data removed]",
      "text/plain": [
       "<Figure size 432x288 with 1 Axes>"
      ]
     },
     "metadata": {
      "needs_background": "light"
     },
     "output_type": "display_data"
    }
   ],
   "source": [
    "plt.hist(df.C, bins = 30)\n",
    "plt.grid(True)\n",
    "plt.show"
   ]
  },
  {
   "cell_type": "code",
   "execution_count": 79,
   "id": "373179eb",
   "metadata": {},
   "outputs": [
    {
     "data": {
      "text/plain": [
       "<function matplotlib.pyplot.show(close=None, block=None)>"
      ]
     },
     "execution_count": 79,
     "metadata": {},
     "output_type": "execute_result"
    },
    {
     "data": {
      "image/png": "[encoded data removed]",
      "text/plain": [
       "<Figure size 432x288 with 1 Axes>"
      ]
     },
     "metadata": {
      "needs_background": "light"
     },
     "output_type": "display_data"
    }
   ],
   "source": [
    "plt.hist(df.D, bins = 30)\n",
    "plt.grid(True)\n",
    "plt.show"
   ]
  },
  {
   "cell_type": "code",
   "execution_count": 80,
   "id": "94c9842c",
   "metadata": {},
   "outputs": [],
   "source": [
    "dfgr = df.groupby(['E'])"
   ]
  },
  {
   "cell_type": "code",
   "execution_count": 81,
   "id": "cecc4aa5",
   "metadata": {},
   "outputs": [],
   "source": [
    "group1 = dfgr.get_group('Iris-setosa')"
   ]
  },
  {
   "cell_type": "code",
   "execution_count": 83,
   "id": "a27ed7ba",
   "metadata": {},
   "outputs": [],
   "source": [
    "group2 = dfgr.get_group('Iris-versicolo')"
   ]
  },
  {
   "cell_type": "code",
   "execution_count": 84,
   "id": "de9a3f12",
   "metadata": {},
   "outputs": [],
   "source": [
    "group3 = dfgr.get_group('Iris-virginica')"
   ]
  },
  {
   "cell_type": "code",
   "execution_count": 85,
   "id": "97b2a7a2",
   "metadata": {},
   "outputs": [
    {
     "data": {
      "text/plain": [
       "(A    5.8\n",
       " B    4.4\n",
       " C    1.9\n",
       " D    0.6\n",
       " dtype: float32,\n",
       " A    7.0\n",
       " B    3.4\n",
       " C    5.1\n",
       " D    1.8\n",
       " dtype: float32,\n",
       " A    7.9\n",
       " B    3.8\n",
       " C    6.9\n",
       " D    2.5\n",
       " dtype: float32)"
      ]
     },
     "execution_count": 85,
     "metadata": {},
     "output_type": "execute_result"
    }
   ],
   "source": [
    "group1[['A', 'B', 'C', 'D']].max(), group2[['A', 'B', 'C', 'D']].max(), group3[['A', 'B', 'C', 'D']].max()"
   ]
  },
  {
   "cell_type": "code",
   "execution_count": 86,
   "id": "4255ce40",
   "metadata": {},
   "outputs": [
    {
     "data": {
      "text/plain": [
       "(A    4.3\n",
       " B    2.3\n",
       " C    1.0\n",
       " D    0.1\n",
       " dtype: float32,\n",
       " A    4.9\n",
       " B    2.0\n",
       " C    3.0\n",
       " D    1.0\n",
       " dtype: float32,\n",
       " A    4.9\n",
       " B    2.2\n",
       " C    4.5\n",
       " D    1.4\n",
       " dtype: float32)"
      ]
     },
     "execution_count": 86,
     "metadata": {},
     "output_type": "execute_result"
    }
   ],
   "source": [
    "group1[['A', 'B', 'C', 'D']].min(), group2[['A', 'B', 'C', 'D']].min(), group3[['A', 'B', 'C', 'D']].min()"
   ]
  },
  {
   "cell_type": "code",
   "execution_count": 87,
   "id": "1ca6018a",
   "metadata": {},
   "outputs": [
    {
     "data": {
      "text/plain": [
       "(4.800000190734863, 5.599999904632568, 6.224999904632568)"
      ]
     },
     "execution_count": 87,
     "metadata": {},
     "output_type": "execute_result"
    }
   ],
   "source": [
    "np.percentile(group1[['A']], 25), np.percentile(group2[['A']], 25), np.percentile(group3[['A']], 25)"
   ]
  },
  {
   "cell_type": "code",
   "execution_count": 88,
   "id": "af615575",
   "metadata": {},
   "outputs": [
    {
     "data": {
      "text/plain": [
       "(3.1249999403953552, 2.524999976158142, 2.799999952316284)"
      ]
     },
     "execution_count": 88,
     "metadata": {},
     "output_type": "execute_result"
    }
   ],
   "source": [
    "np.percentile(group1[['B']], 25), np.percentile(group2[['B']], 25), np.percentile(group3[['B']], 25)"
   ]
  },
  {
   "cell_type": "code",
   "execution_count": 89,
   "id": "17765772",
   "metadata": {},
   "outputs": [
    {
     "data": {
      "text/plain": [
       "(1.399999976158142, 4.0, 5.099999904632568)"
      ]
     },
     "execution_count": 89,
     "metadata": {},
     "output_type": "execute_result"
    }
   ],
   "source": [
    "np.percentile(group1[['C']], 25), np.percentile(group2[['C']], 25), np.percentile(group3[['C']], 25)"
   ]
  },
  {
   "cell_type": "code",
   "execution_count": 90,
   "id": "d62b95e3",
   "metadata": {},
   "outputs": [
    {
     "data": {
      "text/plain": [
       "(0.20000000298023224, 1.2000000476837158, 1.7999999523162842)"
      ]
     },
     "execution_count": 90,
     "metadata": {},
     "output_type": "execute_result"
    }
   ],
   "source": [
    "np.percentile(group1[['D']], 25), np.percentile(group2[['D']], 25), np.percentile(group3[['D']], 25)"
   ]
  },
  {
   "cell_type": "code",
   "execution_count": 91,
   "id": "ede477cd",
   "metadata": {},
   "outputs": [
    {
     "data": {
      "text/plain": [
       "(5.199999809265137, 6.300000190734863, 6.900000095367432)"
      ]
     },
     "execution_count": 91,
     "metadata": {},
     "output_type": "execute_result"
    }
   ],
   "source": [
    "np.percentile(group1[['A']], 75), np.percentile(group2[['A']], 75), np.percentile(group3[['A']], 75)"
   ]
  },
  {
   "cell_type": "code",
   "execution_count": 92,
   "id": "552b8fc5",
   "metadata": {},
   "outputs": [
    {
     "data": {
      "text/plain": [
       "(5.199999809265137, 6.300000190734863, 6.900000095367432)"
      ]
     },
     "execution_count": 92,
     "metadata": {},
     "output_type": "execute_result"
    }
   ],
   "source": [
    "np.percentile(group1[['A']], 75), np.percentile(group2[['A']], 75), np.percentile(group3[['A']], 75)"
   ]
  },
  {
   "cell_type": "code",
   "execution_count": 93,
   "id": "fcc5c84a",
   "metadata": {},
   "outputs": [
    {
     "data": {
      "text/plain": [
       "(1.5750000178813934, 4.599999904632568, 5.8750001192092896)"
      ]
     },
     "execution_count": 93,
     "metadata": {},
     "output_type": "execute_result"
    }
   ],
   "source": [
    "np.percentile(group1[['C']], 75), np.percentile(group2[['C']], 75), np.percentile(group3[['C']], 75)"
   ]
  },
  {
   "cell_type": "code",
   "execution_count": 94,
   "id": "edc4e455",
   "metadata": {},
   "outputs": [
    {
     "data": {
      "text/plain": [
       "(0.30000001192092896, 1.5, 2.299999952316284)"
      ]
     },
     "execution_count": 94,
     "metadata": {},
     "output_type": "execute_result"
    }
   ],
   "source": [
    "np.percentile(group1[['D']], 75), np.percentile(group2[['D']], 75), np.percentile(group3[['D']], 75)"
   ]
  },
  {
   "cell_type": "code",
   "execution_count": 95,
   "id": "ad359983",
   "metadata": {},
   "outputs": [
    {
     "data": {
      "image/png": "[encoded data removed]",
      "text/plain": [
       "<Figure size 1152x576 with 1 Axes>"
      ]
     },
     "metadata": {
      "needs_background": "light"
     },
     "output_type": "display_data"
    }
   ],
   "source": [
    "bins = np.linspace (0, 6, 60)\n",
    "\n",
    "plt.figure(figsize=(16.0, 8.0))\n",
    "plt.hist(group1.A, bins, alpha=0.5, label='A')\n",
    "plt.hist(group1.B, bins, alpha=0.5, label='B')\n",
    "plt.hist(group1.C, bins, alpha=0.5, label='C')\n",
    "plt.hist(group1.D, bins, alpha=0.5, label='D')\n",
    "plt.legend(loc='upper right')\n",
    "plt.xlabel('Iris-setosa')\n",
    "plt.show()"
   ]
  },
  {
   "cell_type": "code",
   "execution_count": 96,
   "id": "ad47b540",
   "metadata": {},
   "outputs": [
    {
     "data": {
      "image/png": "[encoded data removed]",
      "text/plain": [
       "<Figure size 1152x576 with 1 Axes>"
      ]
     },
     "metadata": {
      "needs_background": "light"
     },
     "output_type": "display_data"
    }
   ],
   "source": [
    "bins = np.linspace (0.0, 7.0, 60)\n",
    "\n",
    "plt.figure(figsize=(16.0, 8.0))\n",
    "plt.hist(group2.A, bins, alpha=0.5, label='A')\n",
    "plt.hist(group2.B, bins, alpha=0.5, label='B')\n",
    "plt.hist(group2.C, bins, alpha=0.5, label='C')\n",
    "plt.hist(group2.D, bins, alpha=0.5, label='D')\n",
    "plt.legend(loc='upper right')\n",
    "plt.xlabel('Iris-versicolo')\n",
    "plt.show()"
   ]
  },
  {
   "cell_type": "code",
   "execution_count": 97,
   "id": "175f85d0",
   "metadata": {},
   "outputs": [
    {
     "data": {
      "image/png": "[encoded data removed]",
      "text/plain": [
       "<Figure size 1152x576 with 1 Axes>"
      ]
     },
     "metadata": {
      "needs_background": "light"
     },
     "output_type": "display_data"
    }
   ],
   "source": [
    "bins = np.linspace (0.0, 9.0, 60)\n",
    "\n",
    "plt.figure(figsize=(16.0, 8.0))\n",
    "plt.hist(group3.A, bins, alpha=0.5, label='A')\n",
    "plt.hist(group3.B, bins, alpha=0.5, label='B')\n",
    "plt.hist(group3.C, bins, alpha=0.5, label='C')\n",
    "plt.hist(group3.D, bins, alpha=0.5, label='D')\n",
    "plt.legend(loc='upper right')\n",
    "plt.xlabel('Iris-virginica')\n",
    "plt.show()"
   ]
  },
  {
   "cell_type": "code",
   "execution_count": null,
   "id": "8b7afa7d",
   "metadata": {},
   "outputs": [],
   "source": []
  }
 ],
 "metadata": {
  "kernelspec": {
   "display_name": "Python 3 (ipykernel)",
   "language": "python",
   "name": "python3"
  },
  "language_info": {
   "codemirror_mode": {
    "name": "ipython",
    "version": 3
   },
   "file_extension": ".py",
   "mimetype": "text/x-python",
   "name": "python",
   "nbconvert_exporter": "python",
   "pygments_lexer": "ipython3",
   "version": "3.9.7"
  }
 },
 "nbformat": 4,
 "nbformat_minor": 5
}
